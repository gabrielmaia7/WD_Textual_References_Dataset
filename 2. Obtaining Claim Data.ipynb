{
 "cells": [
  {
   "cell_type": "code",
   "execution_count": 1,
   "id": "df787fbb",
   "metadata": {},
   "outputs": [
    {
     "name": "stdout",
     "output_type": "stream",
     "text": [
      "INFO: Pandarallel will run on 24 workers.\n",
      "INFO: Pandarallel will use Memory file system to transfer data between the main process and workers.\n"
     ]
    },
    {
     "name": "stderr",
     "output_type": "stream",
     "text": [
      "/home/gabriela/anaconda3/lib/python3.7/site-packages/tqdm/std.py:658: FutureWarning: The Panel class is removed from pandas. Accessing it from the top-level namespace will also be removed in the next version\n",
      "  from pandas import Panel\n"
     ]
    }
   ],
   "source": [
    "import numpy as np\n",
    "import sqlite3\n",
    "import wikidata_utils as wdutils\n",
    "import pandas as pd\n",
    "import ast\n",
    "from sample_size import sample_size\n",
    "\n",
    "import qwikidata\n",
    "from qwikidata.json_dump import WikidataJsonDump\n",
    "from qwikidata.linked_data_interface import get_entity_dict_from_api\n",
    "from qwikidata.sparql import (get_subclasses_of_item,\n",
    "                              return_sparql_query_results)\n",
    "from qwikidata.entity import WikidataItem, WikidataProperty, WikidataLexeme\n",
    "\n",
    "from pandarallel import pandarallel\n",
    "pandarallel.initialize(progress_bar=True)\n",
    "\n",
    "from tqdm.auto import tqdm\n",
    "tqdm.pandas()\n",
    "\n",
    "SEED=42\n",
    "\n",
    "from IPython.display import clear_output"
   ]
  },
  {
   "cell_type": "code",
   "execution_count": 2,
   "id": "fa1ffa7a",
   "metadata": {},
   "outputs": [],
   "source": [
    "wdAPI = wdutils.CachedWikidataAPI(\n",
    "    cache_path = '../wikidata_entity_cache.p',\n",
    "    save_every_x_queries=np.inf\n",
    ")"
   ]
  },
  {
   "cell_type": "code",
   "execution_count": 3,
   "id": "957e539e",
   "metadata": {},
   "outputs": [],
   "source": [
    "db = sqlite3.connect('../wikidata_claims_refs_parsed.db')\n",
    "cursor = db.cursor()\n",
    "claims_columns = ['entity_id','claim_id','rank','property_id','datatype','datavalue']\n",
    "refs_columns = ['reference_id', 'reference_property_id', 'reference_index', 'reference_datatype', 'reference_value']"
   ]
  },
  {
   "cell_type": "code",
   "execution_count": 4,
   "id": "5ded6a32",
   "metadata": {},
   "outputs": [
    {
     "data": {
      "text/html": [
       "<div>\n",
       "<style scoped>\n",
       "    .dataframe tbody tr th:only-of-type {\n",
       "        vertical-align: middle;\n",
       "    }\n",
       "\n",
       "    .dataframe tbody tr th {\n",
       "        vertical-align: top;\n",
       "    }\n",
       "\n",
       "    .dataframe thead th {\n",
       "        text-align: right;\n",
       "    }\n",
       "</style>\n",
       "<table border=\"1\" class=\"dataframe\">\n",
       "  <thead>\n",
       "    <tr style=\"text-align: right;\">\n",
       "      <th></th>\n",
       "      <th>reference_id</th>\n",
       "      <th>reference_property_id</th>\n",
       "      <th>reference_index</th>\n",
       "      <th>reference_datatype</th>\n",
       "      <th>reference_value</th>\n",
       "    </tr>\n",
       "  </thead>\n",
       "  <tbody>\n",
       "    <tr>\n",
       "      <th>0</th>\n",
       "      <td>7c6b234780b3ee79e341952bbe69fd0e93298176</td>\n",
       "      <td>P854</td>\n",
       "      <td>0</td>\n",
       "      <td>url</td>\n",
       "      <td>{'value': 'http://gwpapers.virginia.edu/histor...</td>\n",
       "    </tr>\n",
       "    <tr>\n",
       "      <th>1</th>\n",
       "      <td>7c6b234780b3ee79e341952bbe69fd0e93298176</td>\n",
       "      <td>P123</td>\n",
       "      <td>0</td>\n",
       "      <td>wikibase-item</td>\n",
       "      <td>{'value': {'entity-type': 'item', 'numeric-id'...</td>\n",
       "    </tr>\n",
       "    <tr>\n",
       "      <th>2</th>\n",
       "      <td>dd6c0c287c2d4dfd674f577b65ac1d6b875005ae</td>\n",
       "      <td>P248</td>\n",
       "      <td>0</td>\n",
       "      <td>wikibase-item</td>\n",
       "      <td>{'value': {'entity-type': 'item', 'numeric-id'...</td>\n",
       "    </tr>\n",
       "    <tr>\n",
       "      <th>3</th>\n",
       "      <td>dd6c0c287c2d4dfd674f577b65ac1d6b875005ae</td>\n",
       "      <td>P304</td>\n",
       "      <td>0</td>\n",
       "      <td>string</td>\n",
       "      <td>{'value': '389', 'type': 'string'}</td>\n",
       "    </tr>\n",
       "    <tr>\n",
       "      <th>4</th>\n",
       "      <td>21e05588017fe6569fd5fb71be9fc6b97812a49b</td>\n",
       "      <td>P248</td>\n",
       "      <td>0</td>\n",
       "      <td>wikibase-item</td>\n",
       "      <td>{'value': {'entity-type': 'item', 'numeric-id'...</td>\n",
       "    </tr>\n",
       "  </tbody>\n",
       "</table>\n",
       "</div>"
      ],
      "text/plain": [
       "                               reference_id reference_property_id  \\\n",
       "0  7c6b234780b3ee79e341952bbe69fd0e93298176                  P854   \n",
       "1  7c6b234780b3ee79e341952bbe69fd0e93298176                  P123   \n",
       "2  dd6c0c287c2d4dfd674f577b65ac1d6b875005ae                  P248   \n",
       "3  dd6c0c287c2d4dfd674f577b65ac1d6b875005ae                  P304   \n",
       "4  21e05588017fe6569fd5fb71be9fc6b97812a49b                  P248   \n",
       "\n",
       "  reference_index reference_datatype  \\\n",
       "0               0                url   \n",
       "1               0      wikibase-item   \n",
       "2               0      wikibase-item   \n",
       "3               0             string   \n",
       "4               0      wikibase-item   \n",
       "\n",
       "                                     reference_value  \n",
       "0  {'value': 'http://gwpapers.virginia.edu/histor...  \n",
       "1  {'value': {'entity-type': 'item', 'numeric-id'...  \n",
       "2  {'value': {'entity-type': 'item', 'numeric-id'...  \n",
       "3                 {'value': '389', 'type': 'string'}  \n",
       "4  {'value': {'entity-type': 'item', 'numeric-id'...  "
      ]
     },
     "execution_count": 4,
     "metadata": {},
     "output_type": "execute_result"
    }
   ],
   "source": [
    "# Checking first few elements\n",
    "cursor.execute('select * from refs limit 5;')\n",
    "head_df = pd.DataFrame(cursor.fetchall())\n",
    "head_df.columns = refs_columns\n",
    "head_df"
   ]
  },
  {
   "cell_type": "code",
   "execution_count": 5,
   "id": "df65cb69",
   "metadata": {},
   "outputs": [],
   "source": [
    "text_reference_sampled_df_html = pd.read_csv('text_reference_sampled_df_html.csv')"
   ]
  },
  {
   "cell_type": "code",
   "execution_count": 75,
   "id": "d08a25b0",
   "metadata": {},
   "outputs": [],
   "source": [
    "def reference_id_to_claim_id(reference_id):\n",
    "    try:\n",
    "        np.random.seed(SEED)\n",
    "        cursor.execute(f'select claim_id from claims_refs where reference_id=\"{reference_id}\"')\n",
    "        sql_result = cursor.fetchall()\n",
    "        return sql_result\n",
    "        randomly_chosen_claim_id = np.array(sql_result).reshape(-1)\n",
    "        return randomly_chosen_claim_id\n",
    "    except Exception:\n",
    "        print(reference_id)\n",
    "        print(sql_result)\n",
    "        raise\n",
    "        \n",
    "def reference_id_to_claim_data(reference_id):\n",
    "    claim_ids = reference_id_to_claim_id(reference_id)\n",
    "    r = []\n",
    "    for claim_id in claim_ids:\n",
    "        cursor.execute(f'select * from claims where claim_id=\"{claim_id}\";')\n",
    "        d = cursor.fetchall()\n",
    "        r = r + d\n",
    "    return r\n",
    "\n",
    "claim_data = []\n",
    "for reference_id in text_reference_sampled_df_html.reference_id:\n",
    "    data = reference_id_to_claim_data(reference_id)\n",
    "    data = [(reference_id,) + t for t in data]\n",
    "    claim_data = claim_data + data"
   ]
  },
  {
   "cell_type": "code",
   "execution_count": 76,
   "id": "8e1d54c6",
   "metadata": {},
   "outputs": [
    {
     "data": {
      "text/plain": [
       "[]"
      ]
     },
     "execution_count": 76,
     "metadata": {},
     "output_type": "execute_result"
    }
   ],
   "source": [
    "reference_id_to_claim_id('a5a493f7843383b127c7cff4f7c9c26af9b2f87')\n",
    "\n",
    "#cursor.execute('select * from claims_refs where reference_id=\\'ca5a493f7843383b127c7cff4f7c9c26af9b2f87\\'')\n",
    "#sql_result = cursor.fetchall()\n",
    "#sql_result"
   ]
  },
  {
   "cell_type": "code",
   "execution_count": 48,
   "id": "caa29c43",
   "metadata": {},
   "outputs": [
    {
     "data": {
      "text/html": [
       "<div>\n",
       "<style scoped>\n",
       "    .dataframe tbody tr th:only-of-type {\n",
       "        vertical-align: middle;\n",
       "    }\n",
       "\n",
       "    .dataframe tbody tr th {\n",
       "        vertical-align: top;\n",
       "    }\n",
       "\n",
       "    .dataframe thead th {\n",
       "        text-align: right;\n",
       "    }\n",
       "</style>\n",
       "<table border=\"1\" class=\"dataframe\">\n",
       "  <thead>\n",
       "    <tr style=\"text-align: right;\">\n",
       "      <th></th>\n",
       "      <th>reference_id</th>\n",
       "      <th>entity_id</th>\n",
       "      <th>claim_id</th>\n",
       "      <th>rank</th>\n",
       "      <th>property_id</th>\n",
       "      <th>datatype</th>\n",
       "      <th>datavalue</th>\n",
       "    </tr>\n",
       "  </thead>\n",
       "  <tbody>\n",
       "    <tr>\n",
       "      <th>0</th>\n",
       "      <td>390d6c6e68a32e11f8d7b0883cda0557db529fe6</td>\n",
       "      <td>Q5512528</td>\n",
       "      <td>Q5512528$81E8AD02-28AF-4AE3-8ACD-047C30B40B01</td>\n",
       "      <td>normal</td>\n",
       "      <td>P20</td>\n",
       "      <td>wikibase-item</td>\n",
       "      <td>{'value': {'entity-type': 'item', 'numeric-id'...</td>\n",
       "    </tr>\n",
       "    <tr>\n",
       "      <th>1</th>\n",
       "      <td>49b9aec8e10815611ff0379a34d5fd7c3830566e</td>\n",
       "      <td>Q12149940</td>\n",
       "      <td>Q12149940$C9FE5F0C-78FD-4ECE-B1C2-16A763B8ED4E</td>\n",
       "      <td>normal</td>\n",
       "      <td>P140</td>\n",
       "      <td>wikibase-item</td>\n",
       "      <td>{'value': {'entity-type': 'item', 'numeric-id'...</td>\n",
       "    </tr>\n",
       "    <tr>\n",
       "      <th>2</th>\n",
       "      <td>ab3e9ada7246257ffbfb86fa90a54f25e45a704e</td>\n",
       "      <td>Q583556</td>\n",
       "      <td>Q583556$929DCD2F-3B4A-41B5-89E7-EEC549077834</td>\n",
       "      <td>normal</td>\n",
       "      <td>P740</td>\n",
       "      <td>wikibase-item</td>\n",
       "      <td>{'value': {'entity-type': 'item', 'numeric-id'...</td>\n",
       "    </tr>\n",
       "    <tr>\n",
       "      <th>3</th>\n",
       "      <td>ab3e9ada7246257ffbfb86fa90a54f25e45a704e</td>\n",
       "      <td>Q583556</td>\n",
       "      <td>Q583556$2AD75C92-953E-47CB-93A6-D082674F4231</td>\n",
       "      <td>normal</td>\n",
       "      <td>P2031</td>\n",
       "      <td>time</td>\n",
       "      <td>{'value': {'time': '+1972-00-00T00:00:00Z', 't...</td>\n",
       "    </tr>\n",
       "    <tr>\n",
       "      <th>4</th>\n",
       "      <td>76b04346ad57869d9e5ae1007ba8343d708ab6f9</td>\n",
       "      <td>Q7586053</td>\n",
       "      <td>Q7586053$AD344012-A522-4A8A-AF64-16F859E2EA9A</td>\n",
       "      <td>normal</td>\n",
       "      <td>P2031</td>\n",
       "      <td>time</td>\n",
       "      <td>{'value': {'time': '+1983-00-00T00:00:00Z', 't...</td>\n",
       "    </tr>\n",
       "    <tr>\n",
       "      <th>...</th>\n",
       "      <td>...</td>\n",
       "      <td>...</td>\n",
       "      <td>...</td>\n",
       "      <td>...</td>\n",
       "      <td>...</td>\n",
       "      <td>...</td>\n",
       "      <td>...</td>\n",
       "    </tr>\n",
       "    <tr>\n",
       "      <th>1608</th>\n",
       "      <td>ddebe4072a35e892ac423dc9837b8f3a5e022766</td>\n",
       "      <td>Q58434264</td>\n",
       "      <td>Q58434264$353DC8CF-6AFD-4707-95B1-E7373A8FE08B</td>\n",
       "      <td>normal</td>\n",
       "      <td>P5987</td>\n",
       "      <td>external-id</td>\n",
       "      <td>{'value': 'SJ', 'type': 'string'}</td>\n",
       "    </tr>\n",
       "    <tr>\n",
       "      <th>1609</th>\n",
       "      <td>78eb8ba32e77a9434161dabc2dee3b4dede3fa0b</td>\n",
       "      <td>Q58481743</td>\n",
       "      <td>Q58481743$387B7A64-8D7E-45F8-914B-D44856E7AA39</td>\n",
       "      <td>normal</td>\n",
       "      <td>P31</td>\n",
       "      <td>wikibase-item</td>\n",
       "      <td>{'value': {'entity-type': 'item', 'numeric-id'...</td>\n",
       "    </tr>\n",
       "    <tr>\n",
       "      <th>1610</th>\n",
       "      <td>78eb8ba32e77a9434161dabc2dee3b4dede3fa0b</td>\n",
       "      <td>Q58481743</td>\n",
       "      <td>Q58481743$DE0D1567-2FD0-4537-8D53-8C7622579B5F</td>\n",
       "      <td>normal</td>\n",
       "      <td>P5987</td>\n",
       "      <td>external-id</td>\n",
       "      <td>{'value': 'BCB', 'type': 'string'}</td>\n",
       "    </tr>\n",
       "    <tr>\n",
       "      <th>1611</th>\n",
       "      <td>78eb8ba32e77a9434161dabc2dee3b4dede3fa0b</td>\n",
       "      <td>Q58481743</td>\n",
       "      <td>Q58481743$72999E39-348D-4DD3-8272-D4A24B9E7894</td>\n",
       "      <td>normal</td>\n",
       "      <td>P364</td>\n",
       "      <td>wikibase-item</td>\n",
       "      <td>{'value': {'entity-type': 'item', 'numeric-id'...</td>\n",
       "    </tr>\n",
       "    <tr>\n",
       "      <th>1612</th>\n",
       "      <td>ca5a493f7843383b127c7cff4f7c9c26af9b2f87</td>\n",
       "      <td>Q59264524</td>\n",
       "      <td>Q59264524$BD301431-9E17-421C-8393-96CEA3999EAE</td>\n",
       "      <td>normal</td>\n",
       "      <td>P5987</td>\n",
       "      <td>external-id</td>\n",
       "      <td>{'value': 'CIN', 'type': 'string'}</td>\n",
       "    </tr>\n",
       "  </tbody>\n",
       "</table>\n",
       "<p>1613 rows × 7 columns</p>\n",
       "</div>"
      ],
      "text/plain": [
       "                                  reference_id  entity_id  \\\n",
       "0     390d6c6e68a32e11f8d7b0883cda0557db529fe6   Q5512528   \n",
       "1     49b9aec8e10815611ff0379a34d5fd7c3830566e  Q12149940   \n",
       "2     ab3e9ada7246257ffbfb86fa90a54f25e45a704e    Q583556   \n",
       "3     ab3e9ada7246257ffbfb86fa90a54f25e45a704e    Q583556   \n",
       "4     76b04346ad57869d9e5ae1007ba8343d708ab6f9   Q7586053   \n",
       "...                                        ...        ...   \n",
       "1608  ddebe4072a35e892ac423dc9837b8f3a5e022766  Q58434264   \n",
       "1609  78eb8ba32e77a9434161dabc2dee3b4dede3fa0b  Q58481743   \n",
       "1610  78eb8ba32e77a9434161dabc2dee3b4dede3fa0b  Q58481743   \n",
       "1611  78eb8ba32e77a9434161dabc2dee3b4dede3fa0b  Q58481743   \n",
       "1612  ca5a493f7843383b127c7cff4f7c9c26af9b2f87  Q59264524   \n",
       "\n",
       "                                            claim_id    rank property_id  \\\n",
       "0      Q5512528$81E8AD02-28AF-4AE3-8ACD-047C30B40B01  normal         P20   \n",
       "1     Q12149940$C9FE5F0C-78FD-4ECE-B1C2-16A763B8ED4E  normal        P140   \n",
       "2       Q583556$929DCD2F-3B4A-41B5-89E7-EEC549077834  normal        P740   \n",
       "3       Q583556$2AD75C92-953E-47CB-93A6-D082674F4231  normal       P2031   \n",
       "4      Q7586053$AD344012-A522-4A8A-AF64-16F859E2EA9A  normal       P2031   \n",
       "...                                              ...     ...         ...   \n",
       "1608  Q58434264$353DC8CF-6AFD-4707-95B1-E7373A8FE08B  normal       P5987   \n",
       "1609  Q58481743$387B7A64-8D7E-45F8-914B-D44856E7AA39  normal         P31   \n",
       "1610  Q58481743$DE0D1567-2FD0-4537-8D53-8C7622579B5F  normal       P5987   \n",
       "1611  Q58481743$72999E39-348D-4DD3-8272-D4A24B9E7894  normal        P364   \n",
       "1612  Q59264524$BD301431-9E17-421C-8393-96CEA3999EAE  normal       P5987   \n",
       "\n",
       "           datatype                                          datavalue  \n",
       "0     wikibase-item  {'value': {'entity-type': 'item', 'numeric-id'...  \n",
       "1     wikibase-item  {'value': {'entity-type': 'item', 'numeric-id'...  \n",
       "2     wikibase-item  {'value': {'entity-type': 'item', 'numeric-id'...  \n",
       "3              time  {'value': {'time': '+1972-00-00T00:00:00Z', 't...  \n",
       "4              time  {'value': {'time': '+1983-00-00T00:00:00Z', 't...  \n",
       "...             ...                                                ...  \n",
       "1608    external-id                  {'value': 'SJ', 'type': 'string'}  \n",
       "1609  wikibase-item  {'value': {'entity-type': 'item', 'numeric-id'...  \n",
       "1610    external-id                 {'value': 'BCB', 'type': 'string'}  \n",
       "1611  wikibase-item  {'value': {'entity-type': 'item', 'numeric-id'...  \n",
       "1612    external-id                 {'value': 'CIN', 'type': 'string'}  \n",
       "\n",
       "[1613 rows x 7 columns]"
      ]
     },
     "execution_count": 48,
     "metadata": {},
     "output_type": "execute_result"
    }
   ],
   "source": [
    "claim_df = pd.DataFrame(claim_data, columns = ['reference_id'] + claims_columns)\n",
    "claim_df"
   ]
  },
  {
   "cell_type": "code",
   "execution_count": 58,
   "id": "17dc1854",
   "metadata": {},
   "outputs": [
    {
     "name": "stdout",
     "output_type": "stream",
     "text": [
      "https://www.wikidata.org/wiki/Q58481743#Q58481743$72999E39-348D-4DD3-8272-D4A24B9E7894\n"
     ]
    }
   ],
   "source": [
    "print(claim_id_to_claim_url('Q58481743$72999E39-348D-4DD3-8272-D4A24B9E7894'))"
   ]
  },
  {
   "cell_type": "code",
   "execution_count": 52,
   "id": "b8f9577a",
   "metadata": {},
   "outputs": [],
   "source": [
    "def claim_id_to_claim_url(claim_id):\n",
    "    claim_id_parts = claim_id.split('$')\n",
    "    return f'https://www.wikidata.org/wiki/{claim_id_parts[0]}#{claim_id}'"
   ]
  },
  {
   "cell_type": "code",
   "execution_count": 49,
   "id": "86fb26da",
   "metadata": {},
   "outputs": [
    {
     "data": {
      "text/plain": [
       "wikibase-item       752\n",
       "time                368\n",
       "external-id         232\n",
       "string               84\n",
       "quantity             77\n",
       "monolingualtext      59\n",
       "url                  19\n",
       "globe-coordinate     15\n",
       "commonsMedia          7\n",
       "Name: datatype, dtype: int64"
      ]
     },
     "execution_count": 49,
     "metadata": {},
     "output_type": "execute_result"
    }
   ],
   "source": [
    "claim_df.datatype.value_counts()"
   ]
  },
  {
   "cell_type": "code",
   "execution_count": 56,
   "id": "3edf64dd",
   "metadata": {},
   "outputs": [
    {
     "data": {
      "text/plain": [
       "(555,)"
      ]
     },
     "execution_count": 56,
     "metadata": {},
     "output_type": "execute_result"
    }
   ],
   "source": [
    "claim_df[~claim_df.datatype.isin(['external-id','commonsMedia','url'])].reference_id.unique().shape"
   ]
  },
  {
   "cell_type": "code",
   "execution_count": 59,
   "id": "03e9c6d8",
   "metadata": {},
   "outputs": [
    {
     "data": {
      "text/plain": [
       "(676,)"
      ]
     },
     "execution_count": 59,
     "metadata": {},
     "output_type": "execute_result"
    }
   ],
   "source": [
    "claim_df.reference_id.unique().shape"
   ]
  },
  {
   "cell_type": "code",
   "execution_count": 63,
   "id": "709112f2",
   "metadata": {},
   "outputs": [
    {
     "name": "stdout",
     "output_type": "stream",
     "text": [
      "https://www.wikidata.org/wiki/Q105087119#Q105087119$83048AD7-8176-4A67-AF23-4A5E2C502527\n",
      "https://www.wikidata.org/wiki/Q1662094#Q1662094$DE4FBDB0-EFEF-4A7B-ACF6-8C90BAB5C062\n",
      "https://www.wikidata.org/wiki/Q7016850#Q7016850$429B359C-7367-40F8-B3BC-1F0A9224FCF4\n",
      "https://www.wikidata.org/wiki/Q2073209#Q2073209$FC7F78A6-DB7E-476F-A4C7-057556A7FB60\n",
      "https://www.wikidata.org/wiki/Q2073209#Q2073209$83503759-1A55-4001-989D-D2A58445467D\n",
      "https://www.wikidata.org/wiki/Q3612859#Q3612859$4DF49BC8-5FCF-4483-92A0-BBEE9B335754\n",
      "https://www.wikidata.org/wiki/Q54619570#Q54619570$5CC320C6-AA28-47C4-BDC4-6534B4BDA4D0\n",
      "https://www.wikidata.org/wiki/Q30287960#Q30287960$C256B756-3EB7-4D53-9F32-F18FC5BE1998\n",
      "https://www.wikidata.org/wiki/Q54623675#Q54623675$55D1A6CA-8E9C-43BC-BC35-80243D845AAC\n",
      "https://www.wikidata.org/wiki/Q54826499#Q54826499$EC23DFF0-8C28-471C-B2B2-E54F8E485484\n",
      "https://www.wikidata.org/wiki/Q848343#Q848343$7F31C2D2-6BC9-4135-A4EC-88D8DC0F0E4E\n",
      "https://www.wikidata.org/wiki/Q18557497#Q18557497$69C7A8F7-5D49-4199-B025-469A1302BA8E\n",
      "https://www.wikidata.org/wiki/Q18966404#Q18966404$32353D4F-6064-475E-AC25-FABB6607D92B\n",
      "https://www.wikidata.org/wiki/Q207133#Q207133$4AF9DB4D-5F35-4B21-9F1A-9C6DFF90F542\n",
      "https://www.wikidata.org/wiki/Q7204592#Q7204592$7C96B056-D532-4995-ACC3-076435779DF8\n",
      "https://www.wikidata.org/wiki/Q30989286#Q30989286$8CC94D32-7B84-44CC-97BC-C83D2E09D011\n",
      "https://www.wikidata.org/wiki/Q154869#Q154869$EC354F6D-8FCD-4F70-84F4-309B74B24C63\n",
      "https://www.wikidata.org/wiki/Q3496923#Q3496923$384DD839-F097-4667-9F9B-5CD14DA1A40A\n",
      "https://www.wikidata.org/wiki/Q695301#Q695301$55226597-3B9D-4B78-BFDB-60C8E9E1B743\n"
     ]
    }
   ],
   "source": [
    "claim_df[claim_df.datatype == 'url'].claim_id.apply(claim_id_to_claim_url).apply(print);"
   ]
  }
 ],
 "metadata": {
  "kernelspec": {
   "display_name": "Python 3",
   "language": "python",
   "name": "python3"
  },
  "language_info": {
   "codemirror_mode": {
    "name": "ipython",
    "version": 3
   },
   "file_extension": ".py",
   "mimetype": "text/x-python",
   "name": "python",
   "nbconvert_exporter": "python",
   "pygments_lexer": "ipython3",
   "version": "3.7.6"
  }
 },
 "nbformat": 4,
 "nbformat_minor": 5
}
